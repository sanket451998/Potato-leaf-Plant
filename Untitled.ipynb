{
 "cells": [
  {
   "cell_type": "code",
   "execution_count": 12,
   "id": "c7de2d25",
   "metadata": {},
   "outputs": [],
   "source": [
    "def func(in1,in2):\n",
    "    list1=set(in2)\n",
    "    if len(list1)==1:\n",
    "        return -1\n",
    "    else:\n",
    "        list2=[]\n",
    "        for i in in2:\n",
    "            if i not in list2:\n",
    "                list2.append(i)\n",
    "        return sorted(list2)[-2]"
   ]
  },
  {
   "cell_type": "code",
   "execution_count": 13,
   "id": "0b39653d",
   "metadata": {},
   "outputs": [
    {
     "data": {
      "text/plain": [
       "1"
      ]
     },
     "execution_count": 13,
     "metadata": {},
     "output_type": "execute_result"
    }
   ],
   "source": [
    "func(3,[2,1,2])"
   ]
  },
  {
   "cell_type": "code",
   "execution_count": 14,
   "id": "58b2076a",
   "metadata": {},
   "outputs": [
    {
     "data": {
      "text/plain": [
       "-1"
      ]
     },
     "execution_count": 14,
     "metadata": {},
     "output_type": "execute_result"
    }
   ],
   "source": [
    "func(3,[2,2,2])"
   ]
  },
  {
   "cell_type": "code",
   "execution_count": 15,
   "id": "f1cd0bed",
   "metadata": {},
   "outputs": [
    {
     "data": {
      "text/plain": [
       "3"
      ]
     },
     "execution_count": 15,
     "metadata": {},
     "output_type": "execute_result"
    }
   ],
   "source": [
    "func(3,[2,1,3,4])"
   ]
  },
  {
   "cell_type": "code",
   "execution_count": 21,
   "id": "10a903ac",
   "metadata": {},
   "outputs": [],
   "source": []
  },
  {
   "cell_type": "code",
   "execution_count": 24,
   "id": "cab9957a",
   "metadata": {},
   "outputs": [],
   "source": [
    "def numDecoding(s:str) ->int:\n",
    "    if len(s)==0 or (len(s)==1 and s[0]==\"0\"):\n",
    "        return 0\n",
    "    return numDecodingHelper(s,len(s))\n",
    "def numDecodingHelper(s:str,n:int) ->int:\n",
    "    if n==0 or n==1:\n",
    "        return 1\n",
    "    count=0\n",
    "    if s[n-1]>\"0\":\n",
    "        count=numDecodingHelper(s,n-1)\n",
    "    if (s[n-2]==\"1\" or (s[n-2]==\"2\" and s[n-1]<\"7\")):\n",
    "        count+=numDecodingHelper(s,n-2)\n",
    "    return count"
   ]
  },
  {
   "cell_type": "code",
   "execution_count": 25,
   "id": "0b619e8a",
   "metadata": {},
   "outputs": [
    {
     "data": {
      "text/plain": [
       "3"
      ]
     },
     "execution_count": 25,
     "metadata": {},
     "output_type": "execute_result"
    }
   ],
   "source": [
    "numDecoding(\"1234\")"
   ]
  },
  {
   "cell_type": "code",
   "execution_count": 30,
   "id": "6e084a28",
   "metadata": {},
   "outputs": [],
   "source": [
    "list1=list(range(4))"
   ]
  },
  {
   "cell_type": "code",
   "execution_count": 57,
   "id": "95bd2a80",
   "metadata": {},
   "outputs": [
    {
     "data": {
      "text/plain": [
       "[0, 1, 2, 3]"
      ]
     },
     "execution_count": 57,
     "metadata": {},
     "output_type": "execute_result"
    }
   ],
   "source": [
    "list1"
   ]
  },
  {
   "cell_type": "code",
   "execution_count": 67,
   "id": "5d0414d0",
   "metadata": {},
   "outputs": [],
   "source": [
    "list2=[]\n",
    "for i in range(len(list1)+1):\n",
    "    for j in range(i,len(list1)+1):\n",
    "        list2.append((list1[i:j]))"
   ]
  },
  {
   "cell_type": "code",
   "execution_count": 68,
   "id": "9807ca10",
   "metadata": {},
   "outputs": [
    {
     "data": {
      "text/plain": [
       "15"
      ]
     },
     "execution_count": 68,
     "metadata": {},
     "output_type": "execute_result"
    }
   ],
   "source": [
    "len(list2)"
   ]
  },
  {
   "cell_type": "code",
   "execution_count": 69,
   "id": "848befbe",
   "metadata": {},
   "outputs": [
    {
     "data": {
      "text/plain": [
       "[[],\n",
       " [0],\n",
       " [0, 1],\n",
       " [0, 1, 2],\n",
       " [0, 1, 2, 3],\n",
       " [],\n",
       " [1],\n",
       " [1, 2],\n",
       " [1, 2, 3],\n",
       " [],\n",
       " [2],\n",
       " [2, 3],\n",
       " [],\n",
       " [3],\n",
       " []]"
      ]
     },
     "execution_count": 69,
     "metadata": {},
     "output_type": "execute_result"
    }
   ],
   "source": [
    "list2"
   ]
  },
  {
   "cell_type": "code",
   "execution_count": 44,
   "id": "11a01c19",
   "metadata": {},
   "outputs": [],
   "source": [
    "import itertools"
   ]
  },
  {
   "cell_type": "code",
   "execution_count": 47,
   "id": "0f02811b",
   "metadata": {},
   "outputs": [
    {
     "data": {
      "text/plain": [
       "[(0, 1), (0, 2), (0, 3), (1, 2), (1, 3), (2, 3)]"
      ]
     },
     "execution_count": 47,
     "metadata": {},
     "output_type": "execute_result"
    }
   ],
   "source": [
    "list(itertools.combinations(list(range(4)),r=2))"
   ]
  },
  {
   "cell_type": "code",
   "execution_count": 71,
   "id": "ac94f965",
   "metadata": {},
   "outputs": [
    {
     "name": "stdout",
     "output_type": "stream",
     "text": [
      "4\n",
      "9\n"
     ]
    }
   ],
   "source": [
    "num=int(input())\n",
    "count=0\n",
    "for x in range(num):\n",
    "    \n",
    "    for y in range(num+1):\n",
    "        if x>y:\n",
    "            smaller=y\n",
    "        else:\n",
    "            smaller=x\n",
    "        for i in range(1,smaller+1):\n",
    "            if ((x%i==0) and (y%i==0)):\n",
    "                hcf=i\n",
    "                \n",
    "                if hcf==1 and x!=y:\n",
    "                    count+=1\n",
    "print(count)"
   ]
  },
  {
   "cell_type": "code",
   "execution_count": null,
   "id": "a80661e5",
   "metadata": {},
   "outputs": [],
   "source": []
  }
 ],
 "metadata": {
  "kernelspec": {
   "display_name": "Python 3 (ipykernel)",
   "language": "python",
   "name": "python3"
  },
  "language_info": {
   "codemirror_mode": {
    "name": "ipython",
    "version": 3
   },
   "file_extension": ".py",
   "mimetype": "text/x-python",
   "name": "python",
   "nbconvert_exporter": "python",
   "pygments_lexer": "ipython3",
   "version": "3.10.1"
  }
 },
 "nbformat": 4,
 "nbformat_minor": 5
}
